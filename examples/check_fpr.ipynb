{
 "cells": [
  {
   "cell_type": "code",
   "execution_count": 5,
   "metadata": {},
   "outputs": [
    {
     "name": "stdout",
     "output_type": "stream",
     "text": [
      "Requirement already satisfied: numpy in /Users/willkemp/Python/GitHub/appaa/.venv/lib/python3.9/site-packages (1.26.4)\n",
      "Requirement already satisfied: pandas in /Users/willkemp/Python/GitHub/appaa/.venv/lib/python3.9/site-packages (2.2.1)\n",
      "Requirement already satisfied: numpy<2,>=1.22.4 in /Users/willkemp/Python/GitHub/appaa/.venv/lib/python3.9/site-packages (from pandas) (1.26.4)\n",
      "Requirement already satisfied: python-dateutil>=2.8.2 in /Users/willkemp/Python/GitHub/appaa/.venv/lib/python3.9/site-packages (from pandas) (2.8.2)\n",
      "Requirement already satisfied: pytz>=2020.1 in /Users/willkemp/Python/GitHub/appaa/.venv/lib/python3.9/site-packages (from pandas) (2024.1)\n",
      "Requirement already satisfied: tzdata>=2022.7 in /Users/willkemp/Python/GitHub/appaa/.venv/lib/python3.9/site-packages (from pandas) (2024.1)\n",
      "Requirement already satisfied: six>=1.5 in /Users/willkemp/Python/GitHub/appaa/.venv/lib/python3.9/site-packages (from python-dateutil>=2.8.2->pandas) (1.16.0)\n",
      "Collecting scipy\n",
      "  Using cached scipy-1.12.0-cp39-cp39-macosx_10_9_x86_64.whl.metadata (60 kB)\n",
      "Requirement already satisfied: numpy<1.29.0,>=1.22.4 in /Users/willkemp/Python/GitHub/appaa/.venv/lib/python3.9/site-packages (from scipy) (1.26.4)\n",
      "Using cached scipy-1.12.0-cp39-cp39-macosx_10_9_x86_64.whl (38.9 MB)\n",
      "Installing collected packages: scipy\n",
      "Successfully installed scipy-1.12.0\n",
      "Processing /Users/willkemp/Python/GitHub/appaa\n",
      "  Installing build dependencies ... \u001b[?25ldone\n",
      "\u001b[?25h  Getting requirements to build wheel ... \u001b[?25ldone\n",
      "\u001b[?25h  Installing backend dependencies ... \u001b[?25ldone\n",
      "\u001b[?25h  Preparing metadata (pyproject.toml) ... \u001b[?25ldone\n",
      "\u001b[?25hBuilding wheels for collected packages: appaa\n",
      "  Building wheel for appaa (pyproject.toml) ... \u001b[?25ldone\n",
      "\u001b[?25h  Created wheel for appaa: filename=appaa-1.0.0-py3-none-any.whl size=16525 sha256=0220039b5b3148654a81eabfb352002f221b1210c0bc3f9c36d811dcd52585d0\n",
      "  Stored in directory: /private/var/folders/59/9c26g9653456520fhh9wjgsc0000gn/T/pip-ephem-wheel-cache-z_9irovs/wheels/c0/07/39/58495366b8d5b0c12b647b336c5c0a67701cd3502afdca7924\n",
      "Successfully built appaa\n",
      "Installing collected packages: appaa\n",
      "  Attempting uninstall: appaa\n",
      "    Found existing installation: appaa 1.0.0\n",
      "    Uninstalling appaa-1.0.0:\n",
      "      Successfully uninstalled appaa-1.0.0\n",
      "Successfully installed appaa-1.0.0\n"
     ]
    }
   ],
   "source": [
    "!pip3 install numpy\n",
    "!pip3 install pandas\n",
    "!pip3 install scipy"
   ]
  },
  {
   "cell_type": "code",
   "execution_count": 52,
   "metadata": {},
   "outputs": [
    {
     "name": "stdout",
     "output_type": "stream",
     "text": [
      "Processing /Users/willkemp/Python/GitHub/appaa\n",
      "  Installing build dependencies ... \u001b[?25ldone\n",
      "\u001b[?25h  Getting requirements to build wheel ... \u001b[?25ldone\n",
      "\u001b[?25h  Installing backend dependencies ... \u001b[?25ldone\n",
      "\u001b[?25h  Preparing metadata (pyproject.toml) ... \u001b[?25ldone\n",
      "\u001b[?25hBuilding wheels for collected packages: appaa\n",
      "  Building wheel for appaa (pyproject.toml) ... \u001b[?25ldone\n",
      "\u001b[?25h  Created wheel for appaa: filename=appaa-1.0.0-py3-none-any.whl size=36054 sha256=1ab9d62db906ff3eced7ddde8b80bcbacd1bca124b5895ca83f974df4a659a4f\n",
      "  Stored in directory: /private/var/folders/59/9c26g9653456520fhh9wjgsc0000gn/T/pip-ephem-wheel-cache-f43td1g1/wheels/c0/07/39/58495366b8d5b0c12b647b336c5c0a67701cd3502afdca7924\n",
      "Successfully built appaa\n",
      "Installing collected packages: appaa\n",
      "Successfully installed appaa-1.0.0\n"
     ]
    }
   ],
   "source": [
    "!pip3 install '/Users/willkemp/Python/GitHub/appaa/'"
   ]
  },
  {
   "cell_type": "code",
   "execution_count": 53,
   "metadata": {},
   "outputs": [],
   "source": [
    "import numpy as np\n",
    "import pandas as pd\n",
    "from appaa.postanalysis import PostAnalysis\n",
    "from appaa.estimator import DifferenceInMeans\n",
    "from appaa.data.read_test_data import load_data"
   ]
  },
  {
   "cell_type": "code",
   "execution_count": 54,
   "metadata": {},
   "outputs": [
    {
     "data": {
      "text/html": [
       "<div>\n",
       "<style scoped>\n",
       "    .dataframe tbody tr th:only-of-type {\n",
       "        vertical-align: middle;\n",
       "    }\n",
       "\n",
       "    .dataframe tbody tr th {\n",
       "        vertical-align: top;\n",
       "    }\n",
       "\n",
       "    .dataframe thead th {\n",
       "        text-align: right;\n",
       "    }\n",
       "</style>\n",
       "<table border=\"1\" class=\"dataframe\">\n",
       "  <thead>\n",
       "    <tr style=\"text-align: right;\">\n",
       "      <th></th>\n",
       "      <th>Y</th>\n",
       "    </tr>\n",
       "  </thead>\n",
       "  <tbody>\n",
       "    <tr>\n",
       "      <th>1.0</th>\n",
       "      <td>99.789970</td>\n",
       "    </tr>\n",
       "    <tr>\n",
       "      <th>1.0</th>\n",
       "      <td>98.237599</td>\n",
       "    </tr>\n",
       "    <tr>\n",
       "      <th>1.0</th>\n",
       "      <td>97.739471</td>\n",
       "    </tr>\n",
       "    <tr>\n",
       "      <th>1.0</th>\n",
       "      <td>98.306196</td>\n",
       "    </tr>\n",
       "    <tr>\n",
       "      <th>1.0</th>\n",
       "      <td>100.122811</td>\n",
       "    </tr>\n",
       "  </tbody>\n",
       "</table>\n",
       "</div>"
      ],
      "text/plain": [
       "              Y\n",
       "1.0   99.789970\n",
       "1.0   98.237599\n",
       "1.0   97.739471\n",
       "1.0   98.306196\n",
       "1.0  100.122811"
      ]
     },
     "execution_count": 54,
     "metadata": {},
     "output_type": "execute_result"
    }
   ],
   "source": [
    "df = load_data()\n",
    "df.head()"
   ]
  },
  {
   "cell_type": "code",
   "execution_count": 60,
   "metadata": {},
   "outputs": [],
   "source": [
    "estimator = DifferenceInMeans(alpha=0.05, beta=0.8)\n",
    "analyse = PostAnalysis(data=df, test_ids=[1], control_ids=[0], estimator=estimator)"
   ]
  },
  {
   "cell_type": "code",
   "execution_count": 62,
   "metadata": {},
   "outputs": [
    {
     "ename": "AttributeError",
     "evalue": "'PostAnalysis' object has no attribute 'estimator'",
     "output_type": "error",
     "traceback": [
      "\u001b[0;31m---------------------------------------------------------------------------\u001b[0m",
      "\u001b[0;31mAttributeError\u001b[0m                            Traceback (most recent call last)",
      "Cell \u001b[0;32mIn[62], line 1\u001b[0m\n\u001b[0;32m----> 1\u001b[0m \u001b[43manalyse\u001b[49m\u001b[38;5;241;43m.\u001b[39;49m\u001b[43mresults\u001b[49m\u001b[43m(\u001b[49m\u001b[43m)\u001b[49m\n",
      "File \u001b[0;32m~/Python/GitHub/appaa/.venv/lib/python3.9/site-packages/appaa/postanalysis.py:31\u001b[0m, in \u001b[0;36mresults\u001b[0;34m(self)\u001b[0m\n\u001b[1;32m     29\u001b[0m control_id \u001b[38;5;241m=\u001b[39m pair[\u001b[38;5;241m1\u001b[39m]\n\u001b[1;32m     30\u001b[0m Yt \u001b[38;5;241m=\u001b[39m \u001b[38;5;28mself\u001b[39m\u001b[38;5;241m.\u001b[39m_obs_to_array(test_id)\n\u001b[0;32m---> 31\u001b[0m Yc \u001b[38;5;241m=\u001b[39m \u001b[38;5;28mself\u001b[39m\u001b[38;5;241m.\u001b[39m_obs_to_array(control_id)\n\u001b[1;32m     32\u001b[0m point_estimate \u001b[38;5;241m=\u001b[39m \u001b[38;5;28mself\u001b[39m\u001b[38;5;241m.\u001b[39mestimator\u001b[38;5;241m.\u001b[39m_point_estimate(Yt, Yc)\n\u001b[1;32m     33\u001b[0m variance \u001b[38;5;241m=\u001b[39m \u001b[38;5;28mself\u001b[39m\u001b[38;5;241m.\u001b[39mestimator\u001b[38;5;241m.\u001b[39m_variance(Yt, Yc)\n",
      "\u001b[0;31mAttributeError\u001b[0m: 'PostAnalysis' object has no attribute 'estimator'"
     ]
    }
   ],
   "source": [
    "analyse.results()"
   ]
  },
  {
   "cell_type": "code",
   "execution_count": 61,
   "metadata": {},
   "outputs": [
    {
     "ename": "AttributeError",
     "evalue": "'PostAnalysis' object has no attribute 'estimator'",
     "output_type": "error",
     "traceback": [
      "\u001b[0;31m---------------------------------------------------------------------------\u001b[0m",
      "\u001b[0;31mAttributeError\u001b[0m                            Traceback (most recent call last)",
      "Cell \u001b[0;32mIn[61], line 9\u001b[0m\n\u001b[1;32m      7\u001b[0m Yt \u001b[38;5;241m=\u001b[39m analyse\u001b[38;5;241m.\u001b[39m_data\u001b[38;5;241m.\u001b[39mloc[analyse\u001b[38;5;241m.\u001b[39m_data\u001b[38;5;241m.\u001b[39mindex \u001b[38;5;241m==\u001b[39m test_id]\u001b[38;5;241m.\u001b[39mto_numpy()\n\u001b[1;32m      8\u001b[0m Yc \u001b[38;5;241m=\u001b[39m analyse\u001b[38;5;241m.\u001b[39m_data\u001b[38;5;241m.\u001b[39mloc[analyse\u001b[38;5;241m.\u001b[39m_data\u001b[38;5;241m.\u001b[39mindex \u001b[38;5;241m==\u001b[39m control_id]\u001b[38;5;241m.\u001b[39mto_numpy()\n\u001b[0;32m----> 9\u001b[0m point_estimate \u001b[38;5;241m=\u001b[39m \u001b[43manalyse\u001b[49m\u001b[38;5;241;43m.\u001b[39;49m\u001b[43mestimator\u001b[49m\u001b[38;5;241m.\u001b[39m_point_estimate(Yt, Yc)\n\u001b[1;32m     10\u001b[0m variance \u001b[38;5;241m=\u001b[39m analyse\u001b[38;5;241m.\u001b[39mestimator\u001b[38;5;241m.\u001b[39m_variance(Yt, Yc)\n\u001b[1;32m     11\u001b[0m std_error \u001b[38;5;241m=\u001b[39m analyse\u001b[38;5;241m.\u001b[39mestimator\u001b[38;5;241m.\u001b[39m_std_error(Yt, Yc)\n",
      "\u001b[0;31mAttributeError\u001b[0m: 'PostAnalysis' object has no attribute 'estimator'"
     ]
    }
   ],
   "source": [
    "results_list = []\n",
    "results_dict = {}\n",
    "results_df = pd.DataFrame()\n",
    "for pair in list(analyse._comparisons):\n",
    "    test_id = pair[0]\n",
    "    control_id = pair[1]\n",
    "    Yt = analyse._data.loc[analyse._data.index == test_id].to_numpy()\n",
    "    Yc = analyse._data.loc[analyse._data.index == control_id].to_numpy()\n",
    "    point_estimate = analyse.estimator._point_estimate(Yt, Yc)\n",
    "    variance = analyse.estimator._variance(Yt, Yc)\n",
    "    std_error = analyse.estimator._std_error(Yt, Yc)\n",
    "    confidence_interval = analyse.estimator._confidence_interval(Yt, Yc)\n",
    "    p_value = analyse.estimator._p_value(Yt, Yc)\n",
    "    results_dict = {\n",
    "        \"test_id\": test_id,\n",
    "        \"control_id\": control_id,\n",
    "        \"point_estimate\": point_estimate,\n",
    "        \"variance\": variance,\n",
    "        \"std_error\": std_error,\n",
    "        \"confidence_interval\": confidence_interval,\n",
    "        \"p_value\": p_value,\n",
    "    }\n",
    "    print(results_dict)\n",
    "    results_list.append(results_dict)\n",
    "results_df = pd.DataFrame(data=results_list)\n"
   ]
  },
  {
   "cell_type": "code",
   "execution_count": null,
   "metadata": {},
   "outputs": [
    {
     "data": {
      "text/html": [
       "<div>\n",
       "<style scoped>\n",
       "    .dataframe tbody tr th:only-of-type {\n",
       "        vertical-align: middle;\n",
       "    }\n",
       "\n",
       "    .dataframe tbody tr th {\n",
       "        vertical-align: top;\n",
       "    }\n",
       "\n",
       "    .dataframe thead th {\n",
       "        text-align: right;\n",
       "    }\n",
       "</style>\n",
       "<table border=\"1\" class=\"dataframe\">\n",
       "  <thead>\n",
       "    <tr style=\"text-align: right;\">\n",
       "      <th></th>\n",
       "    </tr>\n",
       "  </thead>\n",
       "  <tbody>\n",
       "  </tbody>\n",
       "</table>\n",
       "</div>"
      ],
      "text/plain": [
       "Empty DataFrame\n",
       "Columns: []\n",
       "Index: []"
      ]
     },
     "execution_count": 118,
     "metadata": {},
     "output_type": "execute_result"
    }
   ],
   "source": [
    "results_df.head()"
   ]
  },
  {
   "cell_type": "code",
   "execution_count": 75,
   "metadata": {},
   "outputs": [
    {
     "data": {
      "text/plain": [
       "[(1, 0)]"
      ]
     },
     "execution_count": 75,
     "metadata": {},
     "output_type": "execute_result"
    }
   ],
   "source": [
    "from itertools import product\n",
    "test_ids = [1]\n",
    "control_ids = [0]\n",
    "comparisons = product(test_ids, control_ids)\n",
    "list(comparisons)"
   ]
  },
  {
   "cell_type": "code",
   "execution_count": 76,
   "metadata": {},
   "outputs": [
    {
     "data": {
      "text/plain": [
       "[]"
      ]
     },
     "execution_count": 76,
     "metadata": {},
     "output_type": "execute_result"
    }
   ],
   "source": [
    "list(analyse._comparisons)"
   ]
  },
  {
   "cell_type": "code",
   "execution_count": 92,
   "metadata": {},
   "outputs": [
    {
     "ename": "TypeError",
     "evalue": "'itertools.product' object is not callable",
     "output_type": "error",
     "traceback": [
      "\u001b[0;31m---------------------------------------------------------------------------\u001b[0m",
      "\u001b[0;31mTypeError\u001b[0m                                 Traceback (most recent call last)",
      "Cell \u001b[0;32mIn[92], line 1\u001b[0m\n\u001b[0;32m----> 1\u001b[0m \u001b[38;5;28;01mfor\u001b[39;00m pair \u001b[38;5;129;01min\u001b[39;00m \u001b[43manalyse\u001b[49m\u001b[38;5;241;43m.\u001b[39;49m\u001b[43m_comparisons\u001b[49m\u001b[43m(\u001b[49m\u001b[43m)\u001b[49m:\n\u001b[1;32m      2\u001b[0m     \u001b[38;5;28mprint\u001b[39m(pair)\n",
      "\u001b[0;31mTypeError\u001b[0m: 'itertools.product' object is not callable"
     ]
    }
   ],
   "source": [
    "for pair in analyse._comparisons():\n",
    "    print(pair)"
   ]
  },
  {
   "cell_type": "code",
   "execution_count": 111,
   "metadata": {},
   "outputs": [],
   "source": [
    "analyse = PostAnalysis(data=df, test_ids=[1], control_ids=[0], estimator=estimator)"
   ]
  },
  {
   "cell_type": "code",
   "execution_count": 112,
   "metadata": {},
   "outputs": [],
   "source": [
    "test = list(analyse._comparisons)"
   ]
  },
  {
   "cell_type": "code",
   "execution_count": 113,
   "metadata": {},
   "outputs": [
    {
     "data": {
      "text/plain": [
       "[(1, 0)]"
      ]
     },
     "execution_count": 113,
     "metadata": {},
     "output_type": "execute_result"
    }
   ],
   "source": [
    "test"
   ]
  },
  {
   "cell_type": "code",
   "execution_count": 103,
   "metadata": {},
   "outputs": [
    {
     "data": {
      "text/plain": [
       "<itertools.product at 0x130aa3fc0>"
      ]
     },
     "execution_count": 103,
     "metadata": {},
     "output_type": "execute_result"
    }
   ],
   "source": [
    "analyse._comparisons"
   ]
  },
  {
   "cell_type": "code",
   "execution_count": 104,
   "metadata": {},
   "outputs": [],
   "source": [
    "for x in analyse._comparisons:\n",
    "    print(x)"
   ]
  },
  {
   "cell_type": "code",
   "execution_count": 105,
   "metadata": {},
   "outputs": [
    {
     "data": {
      "text/plain": [
       "[]"
      ]
     },
     "execution_count": 105,
     "metadata": {},
     "output_type": "execute_result"
    }
   ],
   "source": [
    "list(analyse._comparisons)"
   ]
  },
  {
   "cell_type": "code",
   "execution_count": null,
   "metadata": {},
   "outputs": [],
   "source": []
  }
 ],
 "metadata": {
  "kernelspec": {
   "display_name": ".venv",
   "language": "python",
   "name": "python3"
  },
  "language_info": {
   "codemirror_mode": {
    "name": "ipython",
    "version": 3
   },
   "file_extension": ".py",
   "mimetype": "text/x-python",
   "name": "python",
   "nbconvert_exporter": "python",
   "pygments_lexer": "ipython3",
   "version": "3.9.1"
  }
 },
 "nbformat": 4,
 "nbformat_minor": 2
}
