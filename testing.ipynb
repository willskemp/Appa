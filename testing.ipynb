{
 "cells": [
  {
   "cell_type": "code",
   "execution_count": 165,
   "metadata": {},
   "outputs": [
    {
     "name": "stdout",
     "output_type": "stream",
     "text": [
      "Processing /Users/willkemp/Python/GitHub/appaa\n",
      "  Preparing metadata (setup.py) ... \u001b[?25ldone\n",
      "\u001b[?25hBuilding wheels for collected packages: appaa\n",
      "  Building wheel for appaa (setup.py) ... \u001b[?25ldone\n",
      "\u001b[?25h  Created wheel for appaa: filename=appaa-1.0.0-py3-none-any.whl size=13318 sha256=bd5271d6a62598f6cffc45284319e1d0f6cf090f1fa823d2d61bf2acd2cc5429\n",
      "  Stored in directory: /private/var/folders/59/9c26g9653456520fhh9wjgsc0000gn/T/pip-ephem-wheel-cache-j2m1iwhc/wheels/c0/07/39/58495366b8d5b0c12b647b336c5c0a67701cd3502afdca7924\n",
      "Successfully built appaa\n",
      "Installing collected packages: appaa\n",
      "  Attempting uninstall: appaa\n",
      "    Found existing installation: appaa 1.0.0\n",
      "    Uninstalling appaa-1.0.0:\n",
      "      Successfully uninstalled appaa-1.0.0\n",
      "Successfully installed appaa-1.0.0\n"
     ]
    }
   ],
   "source": [
    "!pip3 install /Users/willkemp/Python/GitHub/appaa"
   ]
  },
  {
   "cell_type": "code",
   "execution_count": 166,
   "metadata": {},
   "outputs": [],
   "source": [
    "import appaa as ap"
   ]
  },
  {
   "cell_type": "code",
   "execution_count": 167,
   "metadata": {},
   "outputs": [],
   "source": [
    "tmp_df = ap.data.read_data.get_data()"
   ]
  },
  {
   "cell_type": "code",
   "execution_count": null,
   "metadata": {},
   "outputs": [],
   "source": [
    "ap."
   ]
  },
  {
   "cell_type": "code",
   "execution_count": null,
   "metadata": {},
   "outputs": [],
   "source": [
    "ap."
   ]
  },
  {
   "cell_type": "code",
   "execution_count": null,
   "metadata": {},
   "outputs": [],
   "source": []
  }
 ],
 "metadata": {
  "kernelspec": {
   "display_name": "venv",
   "language": "python",
   "name": "venv"
  },
  "language_info": {
   "codemirror_mode": {
    "name": "ipython",
    "version": 3
   },
   "file_extension": ".py",
   "mimetype": "text/x-python",
   "name": "python",
   "nbconvert_exporter": "python",
   "pygments_lexer": "ipython3",
   "version": "3.9.1"
  }
 },
 "nbformat": 4,
 "nbformat_minor": 2
}
